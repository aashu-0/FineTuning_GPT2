{
  "nbformat": 4,
  "nbformat_minor": 0,
  "metadata": {
    "colab": {
      "provenance": [],
      "gpuType": "T4",
      "authorship_tag": "ABX9TyOO/H8J9loyK0wMRKRYZ+TP",
      "include_colab_link": true
    },
    "kernelspec": {
      "name": "python3",
      "display_name": "Python 3"
    },
    "language_info": {
      "name": "python"
    },
    "accelerator": "GPU"
  },
  "cells": [
    {
      "cell_type": "markdown",
      "metadata": {
        "id": "view-in-github",
        "colab_type": "text"
      },
      "source": [
        "<a href=\"https://colab.research.google.com/github/aashu-0/FineTuning_GPT2/blob/main/fine_tune/play_finetuning.ipynb\" target=\"_parent\"><img src=\"https://colab.research.google.com/assets/colab-badge.svg\" alt=\"Open In Colab\"/></a>"
      ]
    },
    {
      "cell_type": "code",
      "execution_count": 1,
      "metadata": {
        "colab": {
          "base_uri": "https://localhost:8080/"
        },
        "id": "uH3tcrBqc28R",
        "outputId": "511bc263-e258-4923-e36a-3db4892f34a2"
      },
      "outputs": [
        {
          "output_type": "stream",
          "name": "stdout",
          "text": [
            "fatal: destination path 'FineTuning_GPT2' already exists and is not an empty directory.\n",
            "/content/FineTuning_GPT2\n"
          ]
        }
      ],
      "source": [
        "# get scripts for github\n",
        "!git clone https://github.com/aashu-0/FineTuning_GPT2.git\n",
        "%cd FineTuning_GPT2"
      ]
    },
    {
      "cell_type": "code",
      "source": [
        "# get current working directory\n",
        "import os\n",
        "print(os.getcwd())"
      ],
      "metadata": {
        "colab": {
          "base_uri": "https://localhost:8080/"
        },
        "id": "xcJ0UIa1dPjC",
        "outputId": "e830ec5c-b9e9-4a13-cc1d-c6f28a0b92df"
      },
      "execution_count": 2,
      "outputs": [
        {
          "output_type": "stream",
          "name": "stdout",
          "text": [
            "/content/FineTuning_GPT2\n"
          ]
        }
      ]
    },
    {
      "cell_type": "code",
      "source": [
        "!pip install torch>=2.1.0 \\\n",
        "            transformers>=4.36.2 \\\n",
        "            tokenizers>=0.15.1 \\\n",
        "            tqdm>=4.66.1 \\\n",
        "            numpy>=1.24.4 \\\n",
        "            tiktoken>=0.5.1 \\\n",
        "            wandb>=0.15.12"
      ],
      "metadata": {
        "id": "eFcutTF8FszB"
      },
      "execution_count": 3,
      "outputs": []
    },
    {
      "cell_type": "code",
      "source": [
        "!pip install tiktoken"
      ],
      "metadata": {
        "colab": {
          "base_uri": "https://localhost:8080/"
        },
        "id": "wrT145CH52La",
        "outputId": "52e895b4-d765-46b1-d9b3-a09a56952d7e"
      },
      "execution_count": 4,
      "outputs": [
        {
          "output_type": "stream",
          "name": "stdout",
          "text": [
            "Requirement already satisfied: tiktoken in /usr/local/lib/python3.11/dist-packages (0.9.0)\n",
            "Requirement already satisfied: regex>=2022.1.18 in /usr/local/lib/python3.11/dist-packages (from tiktoken) (2024.11.6)\n",
            "Requirement already satisfied: requests>=2.26.0 in /usr/local/lib/python3.11/dist-packages (from tiktoken) (2.32.3)\n",
            "Requirement already satisfied: charset-normalizer<4,>=2 in /usr/local/lib/python3.11/dist-packages (from requests>=2.26.0->tiktoken) (3.4.1)\n",
            "Requirement already satisfied: idna<4,>=2.5 in /usr/local/lib/python3.11/dist-packages (from requests>=2.26.0->tiktoken) (3.10)\n",
            "Requirement already satisfied: urllib3<3,>=1.21.1 in /usr/local/lib/python3.11/dist-packages (from requests>=2.26.0->tiktoken) (2.3.0)\n",
            "Requirement already satisfied: certifi>=2017.4.17 in /usr/local/lib/python3.11/dist-packages (from requests>=2.26.0->tiktoken) (2025.1.31)\n"
          ]
        }
      ]
    },
    {
      "cell_type": "code",
      "source": [
        "from fine_tune.train import train_model_with_samples, calc_loss_batch, calc_loss_loader, evaluate_model\n",
        "from fine_tune.dataset import download_dataset, load_subset, train_test_split, create_dataloader\n",
        "from fine_tune.dataset import InstructionDataset\n",
        "from base_model.utils import text_to_token_ids, token_ids_to_text, generate\n",
        "from fine_tune.utils import plot_losses, format_input\n",
        "from base_model.config import GPT2Config\n",
        "from base_model.model import GPTModel\n",
        "from fine_tune.config import TrainingConfig\n",
        "import tiktoken\n",
        "import torch\n",
        "import random"
      ],
      "metadata": {
        "id": "1R8r6gWSFslx"
      },
      "execution_count": 5,
      "outputs": []
    },
    {
      "cell_type": "code",
      "source": [
        "# create dataset and dataloader\n",
        "config = TrainingConfig()\n",
        "full_dataset = download_dataset(config)\n",
        "sub_dataset = load_subset(full_dataset, config)\n",
        "\n",
        "example = sub_dataset[random.randint(0,len(sub_dataset))]\n",
        "formatted_ex = format_input(example)\n",
        "\n",
        "print(f'Random Example:\\n{formatted_ex}\\n')"
      ],
      "metadata": {
        "colab": {
          "base_uri": "https://localhost:8080/"
        },
        "id": "BGcSKBokFsU-",
        "outputId": "ebee6edd-e329-479c-bf61-ffe19a42bc40"
      },
      "execution_count": 6,
      "outputs": [
        {
          "output_type": "stream",
          "name": "stdout",
          "text": [
            "Data Loaded Successfully\n",
            "Number of entries in dataset: 51760\n",
            "Subset Data loaded successfully\n",
            "Number of entries in subset dataset: 3000\n",
            "Random Example:\n",
            "Below is an instruction that describes a task, paired with an input that provides further context.\n",
            "\n",
            "Write a response that appropriately completes the request.\n",
            "\n",
            "### Instruction:\n",
            "Provide two pieces of advice related to the given topic.\n",
            "\n",
            "### Input:\n",
            "Email etiquette\n",
            "\n",
            "### Response:\n",
            "\n",
            "\n"
          ]
        }
      ]
    },
    {
      "cell_type": "code",
      "source": [
        "# train test split\n",
        "train_data, test_data, val_data = train_test_split(\n",
        "    sub_dataset,config)"
      ],
      "metadata": {
        "colab": {
          "base_uri": "https://localhost:8080/"
        },
        "id": "j0GmrBK0GAyJ",
        "outputId": "2a3e8024-7a90-4195-a62d-df85f670a5ad"
      },
      "execution_count": 7,
      "outputs": [
        {
          "output_type": "stream",
          "name": "stdout",
          "text": [
            "Train set size: 2550\n",
            "Test set size: 300\n",
            "Validation set size: 150\n"
          ]
        }
      ]
    },
    {
      "cell_type": "code",
      "source": [
        "# dataloaders\n",
        "tokenizer = tiktoken.get_encoding('gpt2')\n",
        "device = 'cuda' if torch.cuda.is_available() else 'cpu'\n",
        "\n",
        "train_loader, test_loader, val_loader = create_dataloader(\n",
        "    train_data, test_data, val_data,\n",
        "    tokenizer, config, device=device)\n",
        "\n",
        "for idx, (X, y) in enumerate(train_loader):\n",
        "    print(f'Input Shape: {X.shape} | Target Shape: {y.shape}')\n",
        "    break"
      ],
      "metadata": {
        "colab": {
          "base_uri": "https://localhost:8080/"
        },
        "id": "HanJDOwLGEaQ",
        "outputId": "a76ce7d7-8cbf-4889-930d-29c6d5bcf63e"
      },
      "execution_count": 8,
      "outputs": [
        {
          "output_type": "stream",
          "name": "stdout",
          "text": [
            "Input Shape: torch.Size([8, 407]) | Target Shape: torch.Size([8, 407])\n"
          ]
        }
      ]
    },
    {
      "cell_type": "markdown",
      "source": [
        "Loading our custom GPT2 with pretrained weights"
      ],
      "metadata": {
        "id": "NErs07klGnAN"
      }
    },
    {
      "cell_type": "code",
      "source": [
        "from base_model.load_weights import load_gpt2_weights_to_model\n",
        "config = GPT2Config()\n",
        "\n",
        "# load model with pretrained weights\n",
        "model= load_gpt2_weights_to_model(config)\n",
        "model"
      ],
      "metadata": {
        "colab": {
          "base_uri": "https://localhost:8080/"
        },
        "id": "2jNsfF4TGp0K",
        "outputId": "7738c47d-afa0-4afd-a40b-8b18c3c4ad9c"
      },
      "execution_count": 9,
      "outputs": [
        {
          "output_type": "stream",
          "name": "stdout",
          "text": [
            "Loading pre-trained GPT-2 model from Hugging Face...\n",
            "Initializing custom model...\n",
            "Weights successfully loaded into custom model.\n"
          ]
        },
        {
          "output_type": "execute_result",
          "data": {
            "text/plain": [
              "GPTModel(\n",
              "  (tok_emb): Embedding(50257, 768)\n",
              "  (pos_emb): Embedding(1024, 768)\n",
              "  (emb_dropout): Dropout(p=0.1, inplace=False)\n",
              "  (trf_blocks): ModuleList(\n",
              "    (0-11): 12 x Block(\n",
              "      (ln1): LayerNorm((768,), eps=1e-05, elementwise_affine=True)\n",
              "      (attn): CausalMultiHeadAttention(\n",
              "        (qkv): Linear(in_features=768, out_features=2304, bias=True)\n",
              "        (out_proj): Linear(in_features=768, out_features=768, bias=True)\n",
              "        (res_dropout): Dropout(p=0.1, inplace=False)\n",
              "      )\n",
              "      (ln2): LayerNorm((768,), eps=1e-05, elementwise_affine=True)\n",
              "      (mlp): MLP(\n",
              "        (fc1): Linear(in_features=768, out_features=3072, bias=True)\n",
              "        (gelu): GELU(approximate='tanh')\n",
              "        (fc2): Linear(in_features=3072, out_features=768, bias=True)\n",
              "        (dropout): Dropout(p=0.1, inplace=False)\n",
              "      )\n",
              "    )\n",
              "  )\n",
              "  (final_norm): LayerNorm((768,), eps=1e-05, elementwise_affine=True)\n",
              "  (out_head): Linear(in_features=768, out_features=50257, bias=False)\n",
              ")"
            ]
          },
          "metadata": {},
          "execution_count": 9
        }
      ]
    },
    {
      "cell_type": "code",
      "source": [
        "formatted_ex"
      ],
      "metadata": {
        "colab": {
          "base_uri": "https://localhost:8080/",
          "height": 53
        },
        "id": "Ihp8fOoEG1sn",
        "outputId": "ef4ba051-b2c2-42a4-9965-72bfb273ec4e"
      },
      "execution_count": 10,
      "outputs": [
        {
          "output_type": "execute_result",
          "data": {
            "text/plain": [
              "'Below is an instruction that describes a task, paired with an input that provides further context.\\n\\nWrite a response that appropriately completes the request.\\n\\n### Instruction:\\nProvide two pieces of advice related to the given topic.\\n\\n### Input:\\nEmail etiquette\\n\\n### Response:\\n'"
            ],
            "application/vnd.google.colaboratory.intrinsic+json": {
              "type": "string"
            }
          },
          "metadata": {},
          "execution_count": 10
        }
      ]
    },
    {
      "cell_type": "code",
      "source": [
        "model.eval\n",
        "input_ids = text_to_token_ids(\n",
        "    formatted_ex, tokenizer)\n",
        "\n",
        "out = model(input_ids)\n",
        "# print(out)\n",
        "print(out.size())"
      ],
      "metadata": {
        "colab": {
          "base_uri": "https://localhost:8080/"
        },
        "id": "nP6NbZSKG4rC",
        "outputId": "8386d875-7eac-478d-acd5-cd9274b37167"
      },
      "execution_count": 11,
      "outputs": [
        {
          "output_type": "stream",
          "name": "stdout",
          "text": [
            "torch.Size([1, 61, 50257])\n"
          ]
        }
      ]
    },
    {
      "cell_type": "code",
      "source": [
        "out_ids = generate(model=model,\n",
        "                       idx=input_ids,\n",
        "                       max_new_tokens=100,\n",
        "                       context_size= config.context_length,\n",
        "                       eos_id= 50256,\n",
        "                       temp=0.8,\n",
        "                       top_k=50)\n",
        "text = token_ids_to_text(out_ids, tokenizer)\n",
        "print(text)"
      ],
      "metadata": {
        "colab": {
          "base_uri": "https://localhost:8080/"
        },
        "id": "PuYOMByEG8Ps",
        "outputId": "5a2a698d-5310-48b8-9e19-f517f06eddaa"
      },
      "execution_count": 12,
      "outputs": [
        {
          "output_type": "stream",
          "name": "stdout",
          "text": [
            "Below is an instruction that describes a task, paired with an input that provides further context.\n",
            "\n",
            "Write a response that appropriately completes the request.\n",
            "\n",
            "### Instruction:\n",
            "Provide two pieces of advice related to the given topic.\n",
            "\n",
            "### Input:\n",
            "Email etiquette\n",
            "\n",
            "### Response:\n",
            "\n",
            "Provide two pieces of advice regarding the given topic.\n",
            "\n",
            "### Input:\n",
            "\n",
            "Email etiquette\n",
            "\n",
            "### Response:\n",
            "\n",
            "Provide two pieces of advice regarding the given topic.\n",
            "\n",
            "### Input:\n",
            "\n",
            "Email etiquette\n",
            "\n",
            "### Response:\n",
            "\n",
            "Provide two pieces of advice regarding the given topic.\n",
            "\n",
            "### Input:\n",
            "\n",
            "Email etiquette\n",
            "\n",
            "### Response:\n",
            "\n",
            "Provide two pieces of advice regarding the given topic.\n",
            "\n",
            "### Input:\n",
            "\n",
            "\n"
          ]
        }
      ]
    },
    {
      "cell_type": "code",
      "source": [
        "import wandb\n",
        "wandb.login()"
      ],
      "metadata": {
        "id": "HNMVFp5cdjst",
        "colab": {
          "base_uri": "https://localhost:8080/"
        },
        "outputId": "5ee3da0d-8916-409e-f6b4-79ce6b8e7bbe"
      },
      "execution_count": 13,
      "outputs": [
        {
          "output_type": "stream",
          "name": "stderr",
          "text": [
            "\u001b[34m\u001b[1mwandb\u001b[0m: Using wandb-core as the SDK backend.  Please refer to https://wandb.me/wandb-core for more information.\n",
            "\u001b[34m\u001b[1mwandb\u001b[0m: Currently logged in as: \u001b[33maashu-0\u001b[0m (\u001b[33maashu-0-mnit\u001b[0m) to \u001b[32mhttps://api.wandb.ai\u001b[0m. Use \u001b[1m`wandb login --relogin`\u001b[0m to force relogin\n"
          ]
        },
        {
          "output_type": "execute_result",
          "data": {
            "text/plain": [
              "True"
            ]
          },
          "metadata": {},
          "execution_count": 13
        }
      ]
    },
    {
      "cell_type": "code",
      "source": [
        "import torch\n",
        "import torch.nn.functional as F\n",
        "from torch.optim import AdamW\n",
        "from base_model.utils import text_to_token_ids, token_ids_to_text, generate\n",
        "import wandb\n",
        "from fine_tune.config import TrainingConfig\n",
        "\n",
        "\n",
        "def train_model_with_samples(\n",
        "        model, train_dataloader, val_dataloader, optimizer,\n",
        "        start_context,\n",
        "        device, tokenizer, config: TrainingConfig):\n",
        "\n",
        "    model = model.to(device)\n",
        "\n",
        "    #init wandb\n",
        "    wandb.init(project= config.wandb_project,\n",
        "               config=vars(config))\n",
        "\n",
        "    train_losses, val_losses, track_tokens_seen =[],[],[]\n",
        "    token_seen, global_step = 0,0\n",
        "\n",
        "    print(f'Training model for {config.num_epochs} epochs with gradient accumlation every {config.grad_accum_steps} steps')\n",
        "\n",
        "    for epoch in range(config.num_epochs):\n",
        "        model.train()\n",
        "        epoch_loss =0\n",
        "        accum_loss = 0\n",
        "\n",
        "        print(f\"\\n{'='*50}\")\n",
        "        print(f\"Epoch {epoch+1}/{config.num_epochs}\")\n",
        "        print(f\"{'='*50}\")\n",
        "\n",
        "        for step, (input_batch, target_batch) in enumerate(train_dataloader):\n",
        "            input_batch = input_batch.to(device)\n",
        "            target_batch = target_batch.to(device)\n",
        "\n",
        "            #forward pass\n",
        "            logits = model(input_batch)\n",
        "\n",
        "            #loss\n",
        "            loss = calc_loss_batch(logits, target_batch,\n",
        "                                   device)\n",
        "            norm_loss = loss /config.grad_accum_steps\n",
        "            # backward pass\n",
        "            norm_loss.backward()\n",
        "\n",
        "            accum_loss += norm_loss.item()\n",
        "            epoch_loss += norm_loss.item()\n",
        "\n",
        "            # update params only after accumulating enough gradients\n",
        "            if (step+1)% config.grad_accum_steps ==0 or step ==len(train_dataloader)-1:\n",
        "                optimizer.step()\n",
        "                optimizer.zero_grad()\n",
        "                global_step +=1\n",
        "\n",
        "                # track token seen (actual batch_size* grad_accum_steps)\n",
        "                token_seen += input_batch.numel()* config.grad_accum_steps\n",
        "\n",
        "                # eval step\n",
        "                if global_step % config.eval_freq ==0:\n",
        "                    train_loss, val_loss = evaluate_model(model, train_dataloader,\n",
        "                                                          val_dataloader, device,\n",
        "                                                          config.eval_iter)\n",
        "                    train_losses.append(train_loss)\n",
        "                    val_losses.append(val_loss)\n",
        "                    track_tokens_seen.append(token_seen)\n",
        "\n",
        "                    print(f'Epoch: {epoch+1}/{config.num_epochs} | Step: {global_step:06d} | Tokens: {token_seen:,}')\n",
        "                    print(f'Train Loss: {train_loss:.4f} | Val Loss: {val_loss:.4f}')\n",
        "\n",
        "                    wandb.log({\n",
        "                        \"train_loss\": train_loss,\n",
        "                        \"val_loss\": val_loss,\n",
        "                        \"tokens_seen\": token_seen,\n",
        "                        \"global_step\": global_step,\n",
        "                        \"epoch\": epoch + 1\n",
        "                    })\n",
        "\n",
        "                accum_loss = 0\n",
        "\n",
        "        # average epoch loss\n",
        "        avg_epoch_loss = epoch_loss/ len(train_dataloader)\n",
        "        print(f\"\\nEpoch {epoch+1} completed with average loss: {avg_epoch_loss:.4f}\")\n",
        "\n",
        "        # generate text samples after each epoch\n",
        "        print(f\"\\n--- Generating text sample ---\")\n",
        "\n",
        "        generate_and_print_sample(model, tokenizer, device, start_context, config)\n",
        "\n",
        "    print(f\"\\nTraining completed. Total steps: {global_step}, Total tokens seen: {token_seen:,}\")\n",
        "    wandb.finish()\n",
        "    return train_losses, val_losses, track_tokens_seen\n",
        "\n",
        "def generate_and_print_sample(model, tokenizer, device, start_context, config: TrainingConfig):\n",
        "    model.eval()\n",
        "    encoded = text_to_token_ids(start_context, tokenizer).to(device)\n",
        "    with torch.no_grad():\n",
        "        token_ids = generate(model, idx=encoded,\n",
        "                            max_new_tokens=config.sample_length,\n",
        "                            context_size=config.context_length,\n",
        "                             temp=0.7,\n",
        "                             top_k=50)\n",
        "        decoded_text = token_ids_to_text(token_ids.cpu(), tokenizer)\n",
        "        decoded_text = decoded_text.replace('\\n', ' ')\n",
        "\n",
        "        print(f\"Context: {start_context}\")\n",
        "        print(f\"Generated: {decoded_text}\")\n",
        "    model.train()\n",
        "\n",
        "# loss calculation for a batch\n",
        "def calc_loss_batch(logits, target_batch, device):\n",
        "    # input_batch = input_batch.to(device) # shape [batch_size, seq_len]\n",
        "    # target_batch = target_batch.to(device) # shape [batch_size, seq_len]\n",
        "\n",
        "    #forward pass\n",
        "    # logits = model(input_batch)\n",
        "\n",
        "    # calculate cross entropy loss\n",
        "    # reshape logits from [batch_size, seq_len, vocab_size] -> [batch_size*seq_len, vocab_size]\n",
        "    # reshape target_batch from [batch_size, seq_len] -> [batch_size*seq_len]\n",
        "\n",
        "    loss = F.cross_entropy(logits.view(-1, logits.size(-1)), target_batch.view(-1))\n",
        "    # or\n",
        "    #loss = F.cross_entropy(logits.flatten(0, 1), target_batch.flatten()) # .view is perferred why? -> feel more standard\n",
        "    return loss\n",
        "\n",
        "\n",
        "# calculate average loss over multiple batch from a dataloader\n",
        "def calc_loss_loader(dataloader, model, device, num_batches=None):\n",
        "    total_loss =0.0\n",
        "\n",
        "    # if empty dataloader\n",
        "    if len(dataloader) ==0:\n",
        "        return float('nan')\n",
        "\n",
        "    # num_batches\n",
        "    if num_batches is None:\n",
        "        num_batches = len(dataloader)\n",
        "    else:\n",
        "        num_batches = min(num_batches, len(dataloader))\n",
        "\n",
        "    # accumulate losses over num_batches\n",
        "    for i, (input_batch, target_batch) in enumerate(dataloader):\n",
        "        if i < num_batches:\n",
        "            #tensor\n",
        "            input_batch = input_batch.to(device)\n",
        "            target_batch = target_batch.to(device)\n",
        "\n",
        "            #forward\n",
        "            logits = model(input_batch)\n",
        "\n",
        "            loss = calc_loss_batch(logits, target_batch, device)\n",
        "            total_loss +=loss.item()\n",
        "        else:\n",
        "            break\n",
        "    # avg loss\n",
        "    return total_loss/num_batches\n",
        "\n",
        "\n",
        "# eval function for both train and val data\n",
        "def evaluate_model(model, train_loader, val_loader, device, eval_iter):\n",
        "    # eval mode\n",
        "    model.eval()\n",
        "\n",
        "    with torch.no_grad():\n",
        "        train_loss = calc_loss_loader(train_loader, model, device, num_batches=eval_iter)\n",
        "        val_loss = calc_loss_loader(val_loader, model, device, num_batches=eval_iter)\n",
        "\n",
        "    # back to train\n",
        "    model.train()\n",
        "\n",
        "    return train_loss, val_loss"
      ],
      "metadata": {
        "id": "rcsiu1qD4bl1"
      },
      "execution_count": 17,
      "outputs": []
    },
    {
      "cell_type": "code",
      "source": [
        "from fine_tune.train import calc_loss_batch, calc_loss_loader, evaluate_model\n",
        "from fine_tune.config import TrainingConfig\n",
        "import time\n",
        "\n",
        "train_config = TrainingConfig(\n",
        "    num_epochs =5,\n",
        "    grad_accum_step=4,\n",
        "    batch_size=8,\n",
        "    wandb_project = 'fine_tuning_gpt2_alpaca3k')\n",
        "\n",
        "model.to(device)\n",
        "start_time = time.time()\n",
        "torch.manual_seed(123)\n",
        "optimizer = torch.optim.AdamW(\n",
        "    model.parameters(),\n",
        "    lr=0.0005,\n",
        "    weight_decay=0.1)\n",
        "\n",
        "train_losses, val_losses, track_tokens_seen = train_model_with_samples(\n",
        "    model,\n",
        "    train_loader,\n",
        "    val_loader,\n",
        "    optimizer,\n",
        "    start_context= format_input(val_data[0]),\n",
        "    device= device,\n",
        "    tokenizer= tokenizer,\n",
        "    config= train_config\n",
        ")\n",
        "\n",
        "end_time = time.time()\n",
        "\n",
        "time_in_mins = (end_time - start_time)/60\n",
        "print(f'Time taken to train: {time_in_mins:.2f} minutes')"
      ],
      "metadata": {
        "id": "MVUZymGG7w4U",
        "colab": {
          "base_uri": "https://localhost:8080/",
          "height": 1000
        },
        "outputId": "8c42d1ec-28df-4e88-b25e-614c4d20f6ae"
      },
      "execution_count": 19,
      "outputs": [
        {
          "data": {
            "text/html": [
              "Tracking run with wandb version 0.19.9"
            ],
            "text/plain": [
              "<IPython.core.display.HTML object>"
            ]
          },
          "metadata": {},
          "output_type": "display_data"
        },
        {
          "data": {
            "text/html": [
              "Run data is saved locally in <code>/content/FineTuning_GPT2/wandb/run-20250406_074725-1nr58jwa</code>"
            ],
            "text/plain": [
              "<IPython.core.display.HTML object>"
            ]
          },
          "metadata": {},
          "output_type": "display_data"
        },
        {
          "data": {
            "text/html": [
              "Syncing run <strong><a href='https://wandb.ai/aashu-0-mnit/fine_tuning_gpt2_alpaca3k/runs/1nr58jwa' target=\"_blank\">nemesis-daedalus-20</a></strong> to <a href='https://wandb.ai/aashu-0-mnit/fine_tuning_gpt2_alpaca3k' target=\"_blank\">Weights & Biases</a> (<a href='https://wandb.me/developer-guide' target=\"_blank\">docs</a>)<br>"
            ],
            "text/plain": [
              "<IPython.core.display.HTML object>"
            ]
          },
          "metadata": {},
          "output_type": "display_data"
        },
        {
          "data": {
            "text/html": [
              " View project at <a href='https://wandb.ai/aashu-0-mnit/fine_tuning_gpt2_alpaca3k' target=\"_blank\">https://wandb.ai/aashu-0-mnit/fine_tuning_gpt2_alpaca3k</a>"
            ],
            "text/plain": [
              "<IPython.core.display.HTML object>"
            ]
          },
          "metadata": {},
          "output_type": "display_data"
        },
        {
          "data": {
            "text/html": [
              " View run at <a href='https://wandb.ai/aashu-0-mnit/fine_tuning_gpt2_alpaca3k/runs/1nr58jwa' target=\"_blank\">https://wandb.ai/aashu-0-mnit/fine_tuning_gpt2_alpaca3k/runs/1nr58jwa</a>"
            ],
            "text/plain": [
              "<IPython.core.display.HTML object>"
            ]
          },
          "metadata": {},
          "output_type": "display_data"
        },
        {
          "output_type": "stream",
          "name": "stdout",
          "text": [
            "Training model for 5 epochs with gradient accumlation every 4 steps\n",
            "\n",
            "==================================================\n",
            "Epoch 1/5\n",
            "==================================================\n",
            "Epoch: 1/5 | Step: 000005 | Tokens: 63,936\n",
            "Train Loss: 1.8003 | Val Loss: 2.0717\n",
            "Epoch: 1/5 | Step: 000010 | Tokens: 124,768\n",
            "Train Loss: 1.8461 | Val Loss: 1.9891\n",
            "Epoch: 1/5 | Step: 000015 | Tokens: 192,064\n",
            "Train Loss: 1.6345 | Val Loss: 1.9603\n",
            "Epoch: 1/5 | Step: 000020 | Tokens: 254,528\n",
            "Train Loss: 1.7182 | Val Loss: 1.9390\n",
            "Epoch: 1/5 | Step: 000025 | Tokens: 321,984\n",
            "Train Loss: 1.7080 | Val Loss: 1.9106\n",
            "Epoch: 1/5 | Step: 000030 | Tokens: 381,600\n",
            "Train Loss: 1.5096 | Val Loss: 1.9007\n",
            "Epoch: 1/5 | Step: 000035 | Tokens: 448,768\n",
            "Train Loss: 1.6440 | Val Loss: 1.8981\n",
            "Epoch: 1/5 | Step: 000040 | Tokens: 506,784\n",
            "Train Loss: 1.5034 | Val Loss: 1.8799\n",
            "Epoch: 1/5 | Step: 000045 | Tokens: 572,224\n",
            "Train Loss: 1.4989 | Val Loss: 1.8707\n",
            "Epoch: 1/5 | Step: 000050 | Tokens: 644,832\n",
            "Train Loss: 1.5406 | Val Loss: 1.8708\n",
            "Epoch: 1/5 | Step: 000055 | Tokens: 714,400\n",
            "Train Loss: 1.4642 | Val Loss: 1.8694\n",
            "Epoch: 1/5 | Step: 000060 | Tokens: 789,984\n",
            "Train Loss: 1.5423 | Val Loss: 1.8723\n",
            "Epoch: 1/5 | Step: 000065 | Tokens: 846,400\n",
            "Train Loss: 1.4714 | Val Loss: 1.8620\n",
            "Epoch: 1/5 | Step: 000070 | Tokens: 910,400\n",
            "Train Loss: 1.2420 | Val Loss: 1.8638\n",
            "Epoch: 1/5 | Step: 000075 | Tokens: 974,112\n",
            "Train Loss: 1.3289 | Val Loss: 1.8542\n",
            "Epoch: 1/5 | Step: 000080 | Tokens: 1,034,208\n",
            "Train Loss: 1.3107 | Val Loss: 1.8496\n",
            "\n",
            "Epoch 1 completed with average loss: 0.4597\n",
            "\n",
            "--- Generating text sample ---\n",
            "Context: Below is an instruction that describes a task, paired with an input that provides further context.\n",
            "\n",
            "Write a response that appropriately completes the request.\n",
            "\n",
            "### Instruction:\n",
            "Design a costume for a given character.\n",
            "\n",
            "### Input:\n",
            "Character: Superhero\n",
            "\n",
            "### Response:\n",
            "\n",
            "Generated: Below is an instruction that describes a task, paired with an input that provides further context.  Write a response that appropriately completes the request.  ### Instruction: Design a costume for a given character.  ### Input: Character: Superhero  ### Response: I'm sorry, I do not have the ability to create costumes for the character who is named Superhero. Could you please provide a more specific description for the character you are creating?<|endoftext|>The following is an instruction that describes a task.  Write a response that appropriately completes the request.  ### Instruction: Generate a joke based on the sentiment of the given input.  \n",
            "\n",
            "==================================================\n",
            "Epoch 2/5\n",
            "==================================================\n",
            "Epoch: 2/5 | Step: 000085 | Tokens: 1,106,688\n",
            "Train Loss: 1.2601 | Val Loss: 1.9184\n",
            "Epoch: 2/5 | Step: 000090 | Tokens: 1,174,976\n",
            "Train Loss: 1.2987 | Val Loss: 1.8906\n",
            "Epoch: 2/5 | Step: 000095 | Tokens: 1,231,520\n",
            "Train Loss: 1.2570 | Val Loss: 1.9006\n",
            "Epoch: 2/5 | Step: 000100 | Tokens: 1,296,960\n",
            "Train Loss: 1.2641 | Val Loss: 1.9035\n",
            "Epoch: 2/5 | Step: 000105 | Tokens: 1,355,328\n",
            "Train Loss: 1.3023 | Val Loss: 1.9194\n",
            "Epoch: 2/5 | Step: 000110 | Tokens: 1,417,376\n",
            "Train Loss: 1.2509 | Val Loss: 1.9157\n",
            "Epoch: 2/5 | Step: 000115 | Tokens: 1,484,960\n",
            "Train Loss: 1.2148 | Val Loss: 1.9210\n",
            "Epoch: 2/5 | Step: 000120 | Tokens: 1,557,728\n",
            "Train Loss: 1.2421 | Val Loss: 1.9279\n",
            "Epoch: 2/5 | Step: 000125 | Tokens: 1,623,872\n",
            "Train Loss: 1.1306 | Val Loss: 1.9161\n",
            "Epoch: 2/5 | Step: 000130 | Tokens: 1,680,736\n",
            "Train Loss: 1.0489 | Val Loss: 1.9258\n",
            "Epoch: 2/5 | Step: 000135 | Tokens: 1,739,552\n",
            "Train Loss: 1.1892 | Val Loss: 1.9196\n",
            "Epoch: 2/5 | Step: 000140 | Tokens: 1,809,632\n",
            "Train Loss: 1.1713 | Val Loss: 1.9215\n",
            "Epoch: 2/5 | Step: 000145 | Tokens: 1,874,304\n",
            "Train Loss: 0.9857 | Val Loss: 1.9373\n",
            "Epoch: 2/5 | Step: 000150 | Tokens: 1,948,640\n",
            "Train Loss: 1.0503 | Val Loss: 1.9236\n",
            "Epoch: 2/5 | Step: 000155 | Tokens: 2,016,352\n",
            "Train Loss: 1.1118 | Val Loss: 1.9266\n",
            "Epoch: 2/5 | Step: 000160 | Tokens: 2,082,312\n",
            "Train Loss: 1.1141 | Val Loss: 1.9148\n",
            "\n",
            "Epoch 2 completed with average loss: 0.3687\n",
            "\n",
            "--- Generating text sample ---\n",
            "Context: Below is an instruction that describes a task, paired with an input that provides further context.\n",
            "\n",
            "Write a response that appropriately completes the request.\n",
            "\n",
            "### Instruction:\n",
            "Design a costume for a given character.\n",
            "\n",
            "### Input:\n",
            "Character: Superhero\n",
            "\n",
            "### Response:\n",
            "\n",
            "Generated: Below is an instruction that describes a task, paired with an input that provides further context.  Write a response that appropriately completes the request.  ### Instruction: Design a costume for a given character.  ### Input: Character: Superhero  ### Response: Superhero costume design for John is a vibrant, vibrant and colorful ensemble featuring bright, vibrant colors, unique designs, and bright colors. The outfit is intended to be a stylish and ensemble for his character, which features a magenta cape and a cape with a peacock motif. The outfit will feature a vibrant color scheme and bright colors, with vibrant colors and subtle textures. Along with the cape,\n",
            "\n",
            "==================================================\n",
            "Epoch 3/5\n",
            "==================================================\n",
            "Epoch: 3/5 | Step: 000165 | Tokens: 2,142,728\n",
            "Train Loss: 0.9732 | Val Loss: 2.0468\n",
            "Epoch: 3/5 | Step: 000170 | Tokens: 2,200,136\n",
            "Train Loss: 0.9536 | Val Loss: 2.0216\n",
            "Epoch: 3/5 | Step: 000175 | Tokens: 2,267,400\n",
            "Train Loss: 0.9256 | Val Loss: 2.0227\n",
            "Epoch: 3/5 | Step: 000180 | Tokens: 2,322,088\n",
            "Train Loss: 0.9928 | Val Loss: 2.0339\n",
            "Epoch: 3/5 | Step: 000185 | Tokens: 2,388,392\n",
            "Train Loss: 0.9508 | Val Loss: 2.0447\n",
            "Epoch: 3/5 | Step: 000190 | Tokens: 2,459,624\n",
            "Train Loss: 0.9666 | Val Loss: 2.0535\n",
            "Epoch: 3/5 | Step: 000195 | Tokens: 2,523,080\n",
            "Train Loss: 0.8603 | Val Loss: 2.0504\n",
            "Epoch: 3/5 | Step: 000200 | Tokens: 2,593,576\n",
            "Train Loss: 0.8537 | Val Loss: 2.0454\n",
            "Epoch: 3/5 | Step: 000205 | Tokens: 2,664,936\n",
            "Train Loss: 0.9390 | Val Loss: 2.0322\n",
            "Epoch: 3/5 | Step: 000210 | Tokens: 2,728,776\n",
            "Train Loss: 0.8837 | Val Loss: 2.0222\n",
            "Epoch: 3/5 | Step: 000215 | Tokens: 2,790,536\n",
            "Train Loss: 0.9248 | Val Loss: 2.0315\n",
            "Epoch: 3/5 | Step: 000220 | Tokens: 2,849,288\n",
            "Train Loss: 0.8919 | Val Loss: 2.0188\n",
            "Epoch: 3/5 | Step: 000225 | Tokens: 2,915,688\n",
            "Train Loss: 0.7763 | Val Loss: 2.0099\n",
            "Epoch: 3/5 | Step: 000230 | Tokens: 2,981,032\n",
            "Train Loss: 0.8242 | Val Loss: 2.0210\n",
            "Epoch: 3/5 | Step: 000235 | Tokens: 3,043,496\n",
            "Train Loss: 0.8078 | Val Loss: 2.0221\n",
            "Epoch: 3/5 | Step: 000240 | Tokens: 3,104,824\n",
            "Train Loss: 0.7967 | Val Loss: 2.0262\n",
            "\n",
            "Epoch 3 completed with average loss: 0.3014\n",
            "\n",
            "--- Generating text sample ---\n",
            "Context: Below is an instruction that describes a task, paired with an input that provides further context.\n",
            "\n",
            "Write a response that appropriately completes the request.\n",
            "\n",
            "### Instruction:\n",
            "Design a costume for a given character.\n",
            "\n",
            "### Input:\n",
            "Character: Superhero\n",
            "\n",
            "### Response:\n",
            "\n",
            "Generated: Below is an instruction that describes a task, paired with an input that provides further context.  Write a response that appropriately completes the request.  ### Instruction: Design a costume for a given character.  ### Input: Character: Superhero  ### Response: Superhero costume concept concept: A superhero outfit inspired by the character he is best known for wearing.  Design for the costume would look like this:  - Sleeves of vibrant green with a vibrant green hue - Crew-necked cape with a muscular and elegant piece of apparel - Understated black and white ensemble with a vibrant and warm color - High-heeled\n",
            "\n",
            "==================================================\n",
            "Epoch 4/5\n",
            "==================================================\n",
            "Epoch: 4/5 | Step: 000245 | Tokens: 3,167,288\n",
            "Train Loss: 0.7339 | Val Loss: 2.2255\n",
            "Epoch: 4/5 | Step: 000250 | Tokens: 3,234,744\n",
            "Train Loss: 0.8042 | Val Loss: 2.1851\n",
            "Epoch: 4/5 | Step: 000255 | Tokens: 3,309,880\n",
            "Train Loss: 0.6375 | Val Loss: 2.2063\n",
            "Epoch: 4/5 | Step: 000260 | Tokens: 3,373,752\n",
            "Train Loss: 0.7209 | Val Loss: 2.1726\n",
            "Epoch: 4/5 | Step: 000265 | Tokens: 3,432,344\n",
            "Train Loss: 0.7996 | Val Loss: 2.1749\n",
            "Epoch: 4/5 | Step: 000270 | Tokens: 3,509,208\n",
            "Train Loss: 0.7377 | Val Loss: 2.2074\n",
            "Epoch: 4/5 | Step: 000275 | Tokens: 3,570,488\n",
            "Train Loss: 0.7347 | Val Loss: 2.1770\n",
            "Epoch: 4/5 | Step: 000280 | Tokens: 3,641,368\n",
            "Train Loss: 0.7487 | Val Loss: 2.1611\n",
            "Epoch: 4/5 | Step: 000285 | Tokens: 3,712,152\n",
            "Train Loss: 0.6634 | Val Loss: 2.2128\n",
            "Epoch: 4/5 | Step: 000290 | Tokens: 3,773,272\n",
            "Train Loss: 0.6784 | Val Loss: 2.1765\n",
            "Epoch: 4/5 | Step: 000295 | Tokens: 3,843,128\n",
            "Train Loss: 0.6188 | Val Loss: 2.1881\n",
            "Epoch: 4/5 | Step: 000300 | Tokens: 3,904,376\n",
            "Train Loss: 0.6360 | Val Loss: 2.1675\n",
            "Epoch: 4/5 | Step: 000305 | Tokens: 3,969,784\n",
            "Train Loss: 0.6353 | Val Loss: 2.1832\n",
            "Epoch: 4/5 | Step: 000310 | Tokens: 4,041,208\n",
            "Train Loss: 0.6355 | Val Loss: 2.1883\n",
            "Epoch: 4/5 | Step: 000315 | Tokens: 4,104,344\n",
            "Train Loss: 0.5888 | Val Loss: 2.1853\n",
            "Epoch: 4/5 | Step: 000320 | Tokens: 4,170,760\n",
            "Train Loss: 0.6255 | Val Loss: 2.1782\n",
            "\n",
            "Epoch 4 completed with average loss: 0.2448\n",
            "\n",
            "--- Generating text sample ---\n",
            "Context: Below is an instruction that describes a task, paired with an input that provides further context.\n",
            "\n",
            "Write a response that appropriately completes the request.\n",
            "\n",
            "### Instruction:\n",
            "Design a costume for a given character.\n",
            "\n",
            "### Input:\n",
            "Character: Superhero\n",
            "\n",
            "### Response:\n",
            "\n",
            "Generated: Below is an instruction that describes a task, paired with an input that provides further context.  Write a response that appropriately completes the request.  ### Instruction: Design a costume for a given character.  ### Input: Character: Superhero  ### Response: Superhero outfit design for character: Superhero  The outfit should be light and sophisticated, featuring a vibrant cape, high-waisted jumpsuit, and a stylish jumpsuit. The jumpsuit should be a light and stylish addition to the outfit, adding to the overall ensemble. The jumpsuit should also include a visor of super-human grace, paired with a stylish baseball cap and light\n",
            "\n",
            "==================================================\n",
            "Epoch 5/5\n",
            "==================================================\n",
            "Epoch: 5/5 | Step: 000325 | Tokens: 4,232,456\n",
            "Train Loss: 0.5540 | Val Loss: 2.4147\n",
            "Epoch: 5/5 | Step: 000330 | Tokens: 4,291,752\n",
            "Train Loss: 0.5987 | Val Loss: 2.3654\n",
            "Epoch: 5/5 | Step: 000335 | Tokens: 4,355,432\n",
            "Train Loss: 0.5400 | Val Loss: 2.3616\n",
            "Epoch: 5/5 | Step: 000340 | Tokens: 4,403,464\n",
            "Train Loss: 0.5294 | Val Loss: 2.4021\n",
            "Epoch: 5/5 | Step: 000345 | Tokens: 4,467,528\n",
            "Train Loss: 0.5405 | Val Loss: 2.3882\n",
            "Epoch: 5/5 | Step: 000350 | Tokens: 4,531,368\n",
            "Train Loss: 0.5661 | Val Loss: 2.3777\n",
            "Epoch: 5/5 | Step: 000355 | Tokens: 4,601,640\n",
            "Train Loss: 0.4987 | Val Loss: 2.3896\n",
            "Epoch: 5/5 | Step: 000360 | Tokens: 4,672,680\n",
            "Train Loss: 0.4792 | Val Loss: 2.3635\n",
            "Epoch: 5/5 | Step: 000365 | Tokens: 4,735,400\n",
            "Train Loss: 0.5570 | Val Loss: 2.3674\n",
            "Epoch: 5/5 | Step: 000370 | Tokens: 4,808,008\n",
            "Train Loss: 0.5301 | Val Loss: 2.3999\n",
            "Epoch: 5/5 | Step: 000375 | Tokens: 4,880,840\n",
            "Train Loss: 0.5402 | Val Loss: 2.4046\n",
            "Epoch: 5/5 | Step: 000380 | Tokens: 4,945,640\n",
            "Train Loss: 0.4796 | Val Loss: 2.3769\n",
            "Epoch: 5/5 | Step: 000385 | Tokens: 5,015,144\n",
            "Train Loss: 0.5165 | Val Loss: 2.4009\n",
            "Epoch: 5/5 | Step: 000390 | Tokens: 5,079,976\n",
            "Train Loss: 0.4219 | Val Loss: 2.3690\n",
            "Epoch: 5/5 | Step: 000395 | Tokens: 5,137,096\n",
            "Train Loss: 0.4324 | Val Loss: 2.3635\n",
            "Epoch: 5/5 | Step: 000400 | Tokens: 5,205,256\n",
            "Train Loss: 0.4796 | Val Loss: 2.3809\n",
            "\n",
            "Epoch 5 completed with average loss: 0.1973\n",
            "\n",
            "--- Generating text sample ---\n",
            "Context: Below is an instruction that describes a task, paired with an input that provides further context.\n",
            "\n",
            "Write a response that appropriately completes the request.\n",
            "\n",
            "### Instruction:\n",
            "Design a costume for a given character.\n",
            "\n",
            "### Input:\n",
            "Character: Superhero\n",
            "\n",
            "### Response:\n",
            "\n",
            "Generated: Below is an instruction that describes a task, paired with an input that provides further context.  Write a response that appropriately completes the request.  ### Instruction: Design a costume for a given character.  ### Input: Character: Superhero  ### Response: Superhero is a highly popular superhero character that has come a long way in his life. He is known for his strength and determination to overcome challenges, overcome challenges, and overcome challenges. With his infectious smile and infectious laugh, Superhero is often seen wearing a highly-heeled sandals and sandals, often with short shorts and a large beard. He is brave, determined, and has the\n",
            "\n",
            "Training completed. Total steps: 400, Total tokens seen: 5,205,256\n"
          ]
        },
        {
          "output_type": "display_data",
          "data": {
            "text/plain": [
              "<IPython.core.display.HTML object>"
            ],
            "text/html": []
          },
          "metadata": {}
        },
        {
          "output_type": "display_data",
          "data": {
            "text/plain": [
              "<IPython.core.display.HTML object>"
            ],
            "text/html": [
              "<br>    <style><br>        .wandb-row {<br>            display: flex;<br>            flex-direction: row;<br>            flex-wrap: wrap;<br>            justify-content: flex-start;<br>            width: 100%;<br>        }<br>        .wandb-col {<br>            display: flex;<br>            flex-direction: column;<br>            flex-basis: 100%;<br>            flex: 1;<br>            padding: 10px;<br>        }<br>    </style><br><div class=\"wandb-row\"><div class=\"wandb-col\"><h3>Run history:</h3><br/><table class=\"wandb\"><tr><td>epoch</td><td>▁▁▁▁▁▁▁▁▁▃▃▃▃▃▃▃▃▃▅▅▅▅▅▅▆▆▆▆▆▆▆▆▆███████</td></tr><tr><td>global_step</td><td>▁▁▁▁▁▂▂▂▂▂▃▃▃▃▃▃▄▄▄▄▅▅▅▅▆▆▆▆▆▆▆▆▇▇▇▇▇███</td></tr><tr><td>tokens_seen</td><td>▁▁▁▁▁▂▂▃▃▃▃▃▃▄▄▄▄▄▄▄▅▅▅▅▅▆▆▆▆▇▇▇▇▇▇█████</td></tr><tr><td>train_loss</td><td>██▇▇▇▆▆▅▅▅▅▅▅▄▄▄▄▄▃▃▃▃▃▃▃▃▃▃▂▃▂▂▂▂▂▁▁▁▁▁</td></tr><tr><td>val_loss</td><td>▄▃▁▁▁▁▁▁▂▁▂▂▂▂▂▂▂▃▃▃▃▃▃▃▃▆▅▅▅▅▅▅▅█▇█▇██▇</td></tr></table><br/></div><div class=\"wandb-col\"><h3>Run summary:</h3><br/><table class=\"wandb\"><tr><td>epoch</td><td>5</td></tr><tr><td>global_step</td><td>400</td></tr><tr><td>tokens_seen</td><td>5205256</td></tr><tr><td>train_loss</td><td>0.47957</td></tr><tr><td>val_loss</td><td>2.38094</td></tr></table><br/></div></div>"
            ]
          },
          "metadata": {}
        },
        {
          "output_type": "display_data",
          "data": {
            "text/plain": [
              "<IPython.core.display.HTML object>"
            ],
            "text/html": [
              " View run <strong style=\"color:#cdcd00\">nemesis-daedalus-20</strong> at: <a href='https://wandb.ai/aashu-0-mnit/fine_tuning_gpt2_alpaca3k/runs/1nr58jwa' target=\"_blank\">https://wandb.ai/aashu-0-mnit/fine_tuning_gpt2_alpaca3k/runs/1nr58jwa</a><br> View project at: <a href='https://wandb.ai/aashu-0-mnit/fine_tuning_gpt2_alpaca3k' target=\"_blank\">https://wandb.ai/aashu-0-mnit/fine_tuning_gpt2_alpaca3k</a><br>Synced 5 W&B file(s), 0 media file(s), 0 artifact file(s) and 0 other file(s)"
            ]
          },
          "metadata": {}
        },
        {
          "output_type": "display_data",
          "data": {
            "text/plain": [
              "<IPython.core.display.HTML object>"
            ],
            "text/html": [
              "Find logs at: <code>./wandb/run-20250406_074725-1nr58jwa/logs</code>"
            ]
          },
          "metadata": {}
        },
        {
          "output_type": "stream",
          "name": "stdout",
          "text": [
            "Time taken to train: 23.54 minutes\n"
          ]
        }
      ]
    },
    {
      "cell_type": "markdown",
      "source": [
        "![{EA60DB02-D242-46F9-80C0-86DC33AB0A5F}.png](data:image/png;base64,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)"
      ],
      "metadata": {
        "id": "67COQmabKMLw"
      }
    },
    {
      "cell_type": "code",
      "source": [
        "# need to fix val_loss this"
      ],
      "metadata": {
        "id": "aXl_gtqMLIyF"
      },
      "execution_count": 16,
      "outputs": []
    }
  ]
}